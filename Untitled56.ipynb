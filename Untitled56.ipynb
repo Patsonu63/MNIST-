{
 "cells": [
  {
   "cell_type": "code",
   "execution_count": 1,
   "id": "543f9701",
   "metadata": {},
   "outputs": [],
   "source": [
    "import numpy as np\n",
    "import matplotlib.pyplot as plt\n",
    "import pandas as pd\n",
    "import seaborn as sns"
   ]
  },
  {
   "cell_type": "code",
   "execution_count": 2,
   "id": "1a9281f0",
   "metadata": {},
   "outputs": [],
   "source": [
    "from tensorflow import keras\n"
   ]
  },
  {
   "cell_type": "code",
   "execution_count": 3,
   "id": "75de6e0c",
   "metadata": {
    "scrolled": true
   },
   "outputs": [
    {
     "data": {
      "text/html": [
       "<div>\n",
       "<style scoped>\n",
       "    .dataframe tbody tr th:only-of-type {\n",
       "        vertical-align: middle;\n",
       "    }\n",
       "\n",
       "    .dataframe tbody tr th {\n",
       "        vertical-align: top;\n",
       "    }\n",
       "\n",
       "    .dataframe thead th {\n",
       "        text-align: right;\n",
       "    }\n",
       "</style>\n",
       "<table border=\"1\" class=\"dataframe\">\n",
       "  <thead>\n",
       "    <tr style=\"text-align: right;\">\n",
       "      <th></th>\n",
       "      <th>label</th>\n",
       "      <th>pixel1</th>\n",
       "      <th>pixel2</th>\n",
       "      <th>pixel3</th>\n",
       "      <th>pixel4</th>\n",
       "      <th>pixel5</th>\n",
       "      <th>pixel6</th>\n",
       "      <th>pixel7</th>\n",
       "      <th>pixel8</th>\n",
       "      <th>pixel9</th>\n",
       "      <th>...</th>\n",
       "      <th>pixel775</th>\n",
       "      <th>pixel776</th>\n",
       "      <th>pixel777</th>\n",
       "      <th>pixel778</th>\n",
       "      <th>pixel779</th>\n",
       "      <th>pixel780</th>\n",
       "      <th>pixel781</th>\n",
       "      <th>pixel782</th>\n",
       "      <th>pixel783</th>\n",
       "      <th>pixel784</th>\n",
       "    </tr>\n",
       "  </thead>\n",
       "  <tbody>\n",
       "    <tr>\n",
       "      <th>0</th>\n",
       "      <td>2</td>\n",
       "      <td>0</td>\n",
       "      <td>0</td>\n",
       "      <td>0</td>\n",
       "      <td>0</td>\n",
       "      <td>0</td>\n",
       "      <td>0</td>\n",
       "      <td>0</td>\n",
       "      <td>0</td>\n",
       "      <td>0</td>\n",
       "      <td>...</td>\n",
       "      <td>0</td>\n",
       "      <td>0</td>\n",
       "      <td>0</td>\n",
       "      <td>0</td>\n",
       "      <td>0</td>\n",
       "      <td>0</td>\n",
       "      <td>0</td>\n",
       "      <td>0</td>\n",
       "      <td>0</td>\n",
       "      <td>0</td>\n",
       "    </tr>\n",
       "    <tr>\n",
       "      <th>1</th>\n",
       "      <td>9</td>\n",
       "      <td>0</td>\n",
       "      <td>0</td>\n",
       "      <td>0</td>\n",
       "      <td>0</td>\n",
       "      <td>0</td>\n",
       "      <td>0</td>\n",
       "      <td>0</td>\n",
       "      <td>0</td>\n",
       "      <td>0</td>\n",
       "      <td>...</td>\n",
       "      <td>0</td>\n",
       "      <td>0</td>\n",
       "      <td>0</td>\n",
       "      <td>0</td>\n",
       "      <td>0</td>\n",
       "      <td>0</td>\n",
       "      <td>0</td>\n",
       "      <td>0</td>\n",
       "      <td>0</td>\n",
       "      <td>0</td>\n",
       "    </tr>\n",
       "    <tr>\n",
       "      <th>2</th>\n",
       "      <td>6</td>\n",
       "      <td>0</td>\n",
       "      <td>0</td>\n",
       "      <td>0</td>\n",
       "      <td>0</td>\n",
       "      <td>0</td>\n",
       "      <td>0</td>\n",
       "      <td>0</td>\n",
       "      <td>5</td>\n",
       "      <td>0</td>\n",
       "      <td>...</td>\n",
       "      <td>0</td>\n",
       "      <td>0</td>\n",
       "      <td>0</td>\n",
       "      <td>30</td>\n",
       "      <td>43</td>\n",
       "      <td>0</td>\n",
       "      <td>0</td>\n",
       "      <td>0</td>\n",
       "      <td>0</td>\n",
       "      <td>0</td>\n",
       "    </tr>\n",
       "    <tr>\n",
       "      <th>3</th>\n",
       "      <td>0</td>\n",
       "      <td>0</td>\n",
       "      <td>0</td>\n",
       "      <td>0</td>\n",
       "      <td>1</td>\n",
       "      <td>2</td>\n",
       "      <td>0</td>\n",
       "      <td>0</td>\n",
       "      <td>0</td>\n",
       "      <td>0</td>\n",
       "      <td>...</td>\n",
       "      <td>3</td>\n",
       "      <td>0</td>\n",
       "      <td>0</td>\n",
       "      <td>0</td>\n",
       "      <td>0</td>\n",
       "      <td>1</td>\n",
       "      <td>0</td>\n",
       "      <td>0</td>\n",
       "      <td>0</td>\n",
       "      <td>0</td>\n",
       "    </tr>\n",
       "    <tr>\n",
       "      <th>4</th>\n",
       "      <td>3</td>\n",
       "      <td>0</td>\n",
       "      <td>0</td>\n",
       "      <td>0</td>\n",
       "      <td>0</td>\n",
       "      <td>0</td>\n",
       "      <td>0</td>\n",
       "      <td>0</td>\n",
       "      <td>0</td>\n",
       "      <td>0</td>\n",
       "      <td>...</td>\n",
       "      <td>0</td>\n",
       "      <td>0</td>\n",
       "      <td>0</td>\n",
       "      <td>0</td>\n",
       "      <td>0</td>\n",
       "      <td>0</td>\n",
       "      <td>0</td>\n",
       "      <td>0</td>\n",
       "      <td>0</td>\n",
       "      <td>0</td>\n",
       "    </tr>\n",
       "  </tbody>\n",
       "</table>\n",
       "<p>5 rows × 785 columns</p>\n",
       "</div>"
      ],
      "text/plain": [
       "   label  pixel1  pixel2  pixel3  pixel4  pixel5  pixel6  pixel7  pixel8  \\\n",
       "0      2       0       0       0       0       0       0       0       0   \n",
       "1      9       0       0       0       0       0       0       0       0   \n",
       "2      6       0       0       0       0       0       0       0       5   \n",
       "3      0       0       0       0       1       2       0       0       0   \n",
       "4      3       0       0       0       0       0       0       0       0   \n",
       "\n",
       "   pixel9  ...  pixel775  pixel776  pixel777  pixel778  pixel779  pixel780  \\\n",
       "0       0  ...         0         0         0         0         0         0   \n",
       "1       0  ...         0         0         0         0         0         0   \n",
       "2       0  ...         0         0         0        30        43         0   \n",
       "3       0  ...         3         0         0         0         0         1   \n",
       "4       0  ...         0         0         0         0         0         0   \n",
       "\n",
       "   pixel781  pixel782  pixel783  pixel784  \n",
       "0         0         0         0         0  \n",
       "1         0         0         0         0  \n",
       "2         0         0         0         0  \n",
       "3         0         0         0         0  \n",
       "4         0         0         0         0  \n",
       "\n",
       "[5 rows x 785 columns]"
      ]
     },
     "execution_count": 3,
     "metadata": {},
     "output_type": "execute_result"
    }
   ],
   "source": [
    "####using dataset uploaded from system\n",
    "data = pd.read_csv('fashion-mnist_train.csv')\n",
    "data.head()"
   ]
  },
  {
   "cell_type": "code",
   "execution_count": 4,
   "id": "3d9fc868",
   "metadata": {},
   "outputs": [],
   "source": [
    "labels = data['label'].values\n",
    "features = data.drop(['label'], axis=1).values\n",
    "from sklearn.model_selection import train_test_split\n",
    "\n",
    "x_train, x_test, y_train, y_test = train_test_split(features, labels, test_size=0.2, random_state=42)\n"
   ]
  },
  {
   "cell_type": "code",
   "execution_count": 5,
   "id": "87a650a9",
   "metadata": {},
   "outputs": [],
   "source": [
    "class_names = [\n",
    "    \"T-shirt/top\",\n",
    "    \"Trouser\",\n",
    "    \"Pullover\",\n",
    "    \"Dress\",\n",
    "    \"Coat\",\n",
    "    \"Sandal\",\n",
    "    \"Shirt\",\n",
    "    \"Sneaker\",\n",
    "    \"Bag\",\n",
    "    \"Ankle boot\",\n",
    "]\n",
    "\n",
    "num_classes = len(class_names)"
   ]
  },
  {
   "cell_type": "code",
   "execution_count": 7,
   "id": "f6ac7589",
   "metadata": {},
   "outputs": [
    {
     "data": {
      "text/plain": [
       "(48000, 784)"
      ]
     },
     "execution_count": 7,
     "metadata": {},
     "output_type": "execute_result"
    }
   ],
   "source": [
    "x_train.shape"
   ]
  },
  {
   "cell_type": "code",
   "execution_count": 8,
   "id": "7bafd76a",
   "metadata": {},
   "outputs": [
    {
     "name": "stdout",
     "output_type": "stream",
     "text": [
      "(12000, 784)\n"
     ]
    }
   ],
   "source": [
    "print(x_test.shape)"
   ]
  },
  {
   "cell_type": "code",
   "execution_count": 9,
   "id": "bd0e979a",
   "metadata": {},
   "outputs": [
    {
     "data": {
      "text/plain": [
       "array([  0,   0,   0,   0,   0,   0,   0,   0,   0,   0,   0,   0,   0,\n",
       "         0,   0,   0,   0,   0,   0,   0,   0,   0,   0,   0,   0,   0,\n",
       "         0,   0,   0,   0,   0,   0,   0,   0,   0,   0,   0,   0,   0,\n",
       "         0,   0,   0,   0,   0,   0,   0,   0,   0,   0,   0,   0,   0,\n",
       "         0,   0,   0,   0,   0,   0,   0,   0,   0,   0,   0,   0,   0,\n",
       "         0,   0,   0,   0,   0,   0,   0,   0,   0,   0,   0,   0,   0,\n",
       "         0,   0,   0,   0,   0,   0,   0,   0,   0,   0,   0,   0,   0,\n",
       "         0,   0,   0,   0,   0,   0,   0,   0,   0,   0,   0,   0,   0,\n",
       "         0,   0,   0,  58, 136,   0,   0,   0,   0,   0,   0,   0,   0,\n",
       "         0,   0,   0,   0,   2,   2,   7,   2,   0,   0,   0,   0,   0,\n",
       "         0,   7,  55,  80, 108, 151, 255,   0,   0,   0,   0,   0,   0,\n",
       "         0,   0,   0,   0,   0,   0,   2,   2,   5,   0,   2,   2,  12,\n",
       "        73, 103, 131, 143, 143, 176, 161,  85,  98,  25,   0,   0,   0,\n",
       "         0,   0,   0,   0,   0,   0,   0,   0,   0,   2,   0,  15, 108,\n",
       "       133, 143, 189, 196, 196, 179, 113,  78,  32,   0,  53, 113,   0,\n",
       "         0,   0,   0,   0,   0,   0,   0,   0,   0,   0,   0,   5,   0,\n",
       "        12,  47,  40,  47,  15,   0,   0,  20,   0,   0,   0,   0,   2,\n",
       "       194,  55,   0,   0,   0,   0,   0,   0,   0,   0,   0,   0,   0,\n",
       "         2,   7,   0,   0,   0,   0,   0,   0,   0,   0,   0,   0,   2,\n",
       "         0,   2, 201, 161,   0,   0,   0,   0,   0,   0,   0,   0,   0,\n",
       "         0,   0,   0,   2,   0,   0,   2,   2,   5,   0,   0,   0,   2,\n",
       "         2,   0,   0,  27, 204, 166,  15,   0,   0,   0,   0,   0,   0,\n",
       "         0,   0,   0,   2,   2,   0,   5,   2,   0,   0,   0,   0,   2,\n",
       "         0,   0,   0,   0,   0, 100, 209, 148,  35,   0,   0,   0,   0,\n",
       "         0,   0,   0,   0,   0,   2,   5,   0,   0,   0,   0,   0,   0,\n",
       "         0,   5,   2,   0,   2,   0,   0, 171, 227,  50,  42,   0,   0,\n",
       "         0,   0,   0,   0,   0,   0,   0,   0,   0,   0,   0,   0,   0,\n",
       "         0,   0,   0,   0,   0,   0,   0,   0,  25, 249, 131,  45,  80,\n",
       "         0,   0,   0,   0,   0,   0,   0,   0,   0,   0,   0,   0,   0,\n",
       "         0,   0,   0,   0,   0,   0,   0,   0,   0,  17,  68, 106,  60,\n",
       "        88,  32,   0,   0,   0,   0,   0,   0,   0,   0,   0,   0,   0,\n",
       "         0,   0,   0,   0,   0,   0,   0,   0,   0,  25,  47,  70, 191,\n",
       "       113,  22,  15,   0,   0,   0,   0,   0,   0,   0,   0,   0,   0,\n",
       "         0,   0,   0,   0,   0,   0,   0,   0,   0,  15,  25,  75, 176,\n",
       "       212, 108, 123,  35,  22,   7,   0,   0,   0,   0,   0,   2,   0,\n",
       "         2,   0,   0,   0,   0,   0,   2,   0,   0,   0,  25,  73, 148,\n",
       "       209,  42,   0,   0,  32, 118,   5,   0,   0,   0,   0,   0,   0,\n",
       "         0,   0,   0,   0,   0,   0,   0,   0,   0,   0,   0,  17,  83,\n",
       "       156, 151,   0,   0,   0,   0,   2, 159,  50,   0,   0,   0,   0,\n",
       "         0,   0,   0,   0,   0,   0,   0,   0,   0,   0,   2,   0,   5,\n",
       "        88, 174, 108,   0,   0,   2,   0,   0,   0, 209,  73,   0,   0,\n",
       "         0,   0,   0,   0,  27,  17, 118,  55,   0,   0,   0,   0,   0,\n",
       "         0,  50, 169, 118,   0,   0,   7,   0,   0,   0,   0, 169,  80,\n",
       "         0,   0,   0,   0,   0,  12,  53,  10,  78, 154,   0,   0,   0,\n",
       "         0,   0,  22, 204, 136,   0,   0,   0,   0,   0,   2,   0,   0,\n",
       "       176, 106,   0,   0,   0,   0,   2,   7,   0,   7,   5, 164,   2,\n",
       "         0,   0,   0,  75, 146, 191,   0,   0,   0,   0,   0,   0,   2,\n",
       "         0,   0, 186, 123,   0,  30,  60,  25,  27,  68,  83,  47,  53,\n",
       "        95,  45,   0,  20, 118, 169, 159,   0,   0,   2,   0,   0,   0,\n",
       "         0,   0,   0,   0, 169,  85,   0,  27, 118, 133, 121, 100, 138,\n",
       "        75,  80,  73, 121, 138, 138, 174, 161,   2,   0,   5,   2,   0,\n",
       "         0,   0,   0,   0,   2,   0, 159, 143,   0,   0,   0,   0,   5,\n",
       "        30,  53,  50,  80,  65, 106, 131,  50,  58,   0,   0,   0,   2,\n",
       "         7,   0,   0,   0,   0,   0,   0,   0, 141, 148,   0,   0,   0,\n",
       "         0,   0,   0,   0,   0,   0,   0,   0,   0,   0,   0,   0,   0,\n",
       "         0,   0,   0,   0,   0,   0,   0,   0,   0,   0,   0,   0,   0,\n",
       "         0,   0,   0,   0,   0,   0,   0,   0,   0,   0,   0,   0,   0,\n",
       "         0,   0,   0,   0,   0,   0,   0,   0,   0,   0,   0,   0,   0,\n",
       "         0,   0,   0,   0,   0,   0,   0,   0,   0,   0,   0,   0,   0,\n",
       "         0,   0,   0,   0,   0,   0,   0,   0,   0,   0,   0,   0,   0,\n",
       "         0,   0,   0,   0], dtype=int64)"
      ]
     },
     "execution_count": 9,
     "metadata": {},
     "output_type": "execute_result"
    }
   ],
   "source": [
    "x_train[0] # is the first index position"
   ]
  },
  {
   "cell_type": "code",
   "execution_count": 10,
   "id": "19717f88",
   "metadata": {},
   "outputs": [],
   "source": [
    "x_train = x_train.reshape(x_train.shape[0], 28, 28, 1)\n",
    "x_test = x_test.reshape(x_test.shape[0], 28, 28, 1)"
   ]
  },
  {
   "cell_type": "code",
   "execution_count": 11,
   "id": "630e7e8b",
   "metadata": {},
   "outputs": [],
   "source": [
    "x_train = x_train/255.\n",
    "x_test = x_test/255."
   ]
  },
  {
   "cell_type": "code",
   "execution_count": 12,
   "id": "f0cf81b2",
   "metadata": {},
   "outputs": [],
   "source": [
    "from tensorflow.keras.models import Sequential\n",
    "from tensorflow.keras.layers import Conv2D, Flatten, Dropout, MaxPooling2D, Dense"
   ]
  },
  {
   "cell_type": "code",
   "execution_count": 13,
   "id": "c4ea3b57",
   "metadata": {},
   "outputs": [],
   "source": [
    "model = Sequential()\n",
    "\n",
    "# conv layer 1\n",
    "model.add(Conv2D(64, (3,3), padding='same', activation='relu', input_shape=(28,28,1)))\n",
    "model.add(MaxPooling2D((2,2), padding='same'))\n",
    "model.add(Dropout(0.5))\n",
    "\n",
    "# conv layer 2\n",
    "model.add(Conv2D(32, (3,3), padding='same', activation='relu', input_shape=(28,28,1)))\n",
    "model.add(MaxPooling2D((2,2), padding='same'))\n",
    "model.add(Dropout(0.5))\n",
    "model.add(Flatten())\n",
    "\n",
    "# fixed layer\n",
    "model.add(Dense(64, activation='relu'))\n",
    "model.add(Dropout(0.5))\n",
    "\n",
    "# Output layer\n",
    "model.add(Dense(num_classes, activation='softmax'))\n"
   ]
  },
  {
   "cell_type": "code",
   "execution_count": 14,
   "id": "16b1364d",
   "metadata": {},
   "outputs": [
    {
     "name": "stdout",
     "output_type": "stream",
     "text": [
      "Model: \"sequential\"\n",
      "_________________________________________________________________\n",
      " Layer (type)                Output Shape              Param #   \n",
      "=================================================================\n",
      " conv2d (Conv2D)             (None, 28, 28, 64)        640       \n",
      "                                                                 \n",
      " max_pooling2d (MaxPooling2D  (None, 14, 14, 64)       0         \n",
      " )                                                               \n",
      "                                                                 \n",
      " dropout (Dropout)           (None, 14, 14, 64)        0         \n",
      "                                                                 \n",
      " conv2d_1 (Conv2D)           (None, 14, 14, 32)        18464     \n",
      "                                                                 \n",
      " max_pooling2d_1 (MaxPooling  (None, 7, 7, 32)         0         \n",
      " 2D)                                                             \n",
      "                                                                 \n",
      " dropout_1 (Dropout)         (None, 7, 7, 32)          0         \n",
      "                                                                 \n",
      " flatten (Flatten)           (None, 1568)              0         \n",
      "                                                                 \n",
      " dense (Dense)               (None, 64)                100416    \n",
      "                                                                 \n",
      " dropout_2 (Dropout)         (None, 64)                0         \n",
      "                                                                 \n",
      " dense_1 (Dense)             (None, 10)                650       \n",
      "                                                                 \n",
      "=================================================================\n",
      "Total params: 120,170\n",
      "Trainable params: 120,170\n",
      "Non-trainable params: 0\n",
      "_________________________________________________________________\n"
     ]
    }
   ],
   "source": [
    "model.summary()\n"
   ]
  },
  {
   "cell_type": "code",
   "execution_count": 15,
   "id": "0d6ee57c",
   "metadata": {},
   "outputs": [],
   "source": [
    "model.compile(\n",
    "    optimizer=keras.optimizers.Adam(0.001),\n",
    "    loss='sparse_categorical_crossentropy',\n",
    "    metrics=['accuracy']\n",
    ")"
   ]
  },
  {
   "cell_type": "code",
   "execution_count": 16,
   "id": "07928c5e",
   "metadata": {
    "scrolled": false
   },
   "outputs": [
    {
     "name": "stdout",
     "output_type": "stream",
     "text": [
      "Epoch 1/10\n",
      "750/750 [==============================] - 71s 94ms/step - loss: 0.8000 - accuracy: 0.7035 - val_loss: 0.4568 - val_accuracy: 0.8253\n",
      "Epoch 2/10\n",
      "750/750 [==============================] - 63s 84ms/step - loss: 0.5428 - accuracy: 0.8002 - val_loss: 0.3797 - val_accuracy: 0.8622\n",
      "Epoch 3/10\n",
      "750/750 [==============================] - 61s 81ms/step - loss: 0.4915 - accuracy: 0.8222 - val_loss: 0.3502 - val_accuracy: 0.8717\n",
      "Epoch 4/10\n",
      "750/750 [==============================] - 60s 80ms/step - loss: 0.4580 - accuracy: 0.8355 - val_loss: 0.3319 - val_accuracy: 0.8844\n",
      "Epoch 5/10\n",
      "750/750 [==============================] - 61s 82ms/step - loss: 0.4355 - accuracy: 0.8434 - val_loss: 0.3256 - val_accuracy: 0.8842\n",
      "Epoch 6/10\n",
      "750/750 [==============================] - 64s 85ms/step - loss: 0.4184 - accuracy: 0.8485 - val_loss: 0.3078 - val_accuracy: 0.8923\n",
      "Epoch 7/10\n",
      "750/750 [==============================] - 64s 86ms/step - loss: 0.4052 - accuracy: 0.8550 - val_loss: 0.2968 - val_accuracy: 0.8941\n",
      "Epoch 8/10\n",
      "750/750 [==============================] - 63s 84ms/step - loss: 0.3970 - accuracy: 0.8564 - val_loss: 0.2932 - val_accuracy: 0.9000\n",
      "Epoch 9/10\n",
      "750/750 [==============================] - 65s 87ms/step - loss: 0.3841 - accuracy: 0.8604 - val_loss: 0.2782 - val_accuracy: 0.9038\n",
      "Epoch 10/10\n",
      "750/750 [==============================] - 67s 90ms/step - loss: 0.3782 - accuracy: 0.8644 - val_loss: 0.2723 - val_accuracy: 0.9022\n"
     ]
    }
   ],
   "source": [
    "history=model.fit(x_train, y_train, validation_data=(x_test, y_test), batch_size=64, epochs=10)\n"
   ]
  },
  {
   "cell_type": "code",
   "execution_count": 17,
   "id": "c7e59ad0",
   "metadata": {},
   "outputs": [],
   "source": [
    "results = model.evaluate(x_test,  y_test, verbose = 0)\n"
   ]
  },
  {
   "cell_type": "code",
   "execution_count": 18,
   "id": "fb62b4f1",
   "metadata": {},
   "outputs": [
    {
     "name": "stdout",
     "output_type": "stream",
     "text": [
      "test loss, test acc: [0.27228572964668274, 0.9022499918937683]\n"
     ]
    }
   ],
   "source": [
    "print('test loss, test acc:', results)\n"
   ]
  },
  {
   "cell_type": "code",
   "execution_count": 19,
   "id": "4b39c9a4",
   "metadata": {
    "scrolled": true
   },
   "outputs": [
    {
     "data": {
      "image/png": "[encoded data removed]",
      "text/plain": [
       "<Figure size 640x480 with 1 Axes>"
      ]
     },
     "metadata": {},
     "output_type": "display_data"
    }
   ],
   "source": [
    "plt.plot(range(1,1+len(history.history['accuracy'])), history.history['accuracy'])\n",
    "plt.plot(range(1,1+len(history.history['val_accuracy'])), history.history['val_accuracy'])\n",
    "plt.title('Model Accuracy vs Number of Epochs')\n",
    "plt.ylabel('Accuracy')\n",
    "plt.xlabel('Epoch Number')\n",
    "\n",
    "plt.legend(['train', 'test'], loc='best')\n",
    "plt.xticks(np.arange(0,28,2))\n",
    "plt.show()"
   ]
  },
  {
   "cell_type": "code",
   "execution_count": 20,
   "id": "004a7c83",
   "metadata": {},
   "outputs": [
    {
     "name": "stdout",
     "output_type": "stream",
     "text": [
      "Best test accuracy was 0.903833 at epoch 9\n"
     ]
    }
   ],
   "source": [
    "best_score = max(history.history['val_accuracy'])\n",
    "best_epoch = np.array(history.history['val_accuracy']).argmax()+1\n",
    "print('Best test accuracy was %f at epoch %i' % (best_score, best_epoch))"
   ]
  },
  {
   "cell_type": "code",
   "execution_count": 21,
   "id": "9c4be214",
   "metadata": {},
   "outputs": [
    {
     "name": "stdout",
     "output_type": "stream",
     "text": [
      "375/375 [==============================] - 4s 10ms/step\n"
     ]
    }
   ],
   "source": [
    "ypred = model.predict(x_test)\n",
    "\n"
   ]
  },
  {
   "cell_type": "code",
   "execution_count": 22,
   "id": "9f2efbe1",
   "metadata": {},
   "outputs": [],
   "source": [
    "Y_pred_labels = [np.argmax(i) for i in ypred]\n"
   ]
  },
  {
   "cell_type": "code",
   "execution_count": 23,
   "id": "757a34da",
   "metadata": {},
   "outputs": [
    {
     "name": "stdout",
     "output_type": "stream",
     "text": [
      "tf.Tensor(\n",
      "[[1071    1   14   47    5    0   89    0    5    0]\n",
      " [   0 1146    0   27    1    0    0    0    0    0]\n",
      " [   6    1 1039   13   93    0   47    0    1    0]\n",
      " [  12    4    3 1155   49    0   19    0    0    0]\n",
      " [   2    2   59   37 1053    0   32    0    0    0]\n",
      " [   0    0    0    0    0 1118    0   14    1    8]\n",
      " [ 165    2   97   39  177    1  756    0    6    0]\n",
      " [   0    0    0    0    0   17    0 1192    0   15]\n",
      " [   1    1    1    5    2    2   15    1 1121    0]\n",
      " [   0    0    0    0    0    2    0   31    1 1176]], shape=(10, 10), dtype=int32)\n"
     ]
    }
   ],
   "source": [
    "from tensorflow.math import confusion_matrix\n",
    "conf_mat = confusion_matrix(y_test, Y_pred_labels)\n",
    "print(conf_mat)"
   ]
  },
  {
   "cell_type": "code",
   "execution_count": 24,
   "id": "607696c3",
   "metadata": {},
   "outputs": [
    {
     "data": {
      "image/png": "[encoded data removed]",
      "text/plain": [
       "<Figure size 1500x700 with 2 Axes>"
      ]
     },
     "metadata": {},
     "output_type": "display_data"
    }
   ],
   "source": [
    "import seaborn as sns\n",
    "\n",
    "plt.figure(figsize=(15,7))\n",
    "sns.heatmap(conf_mat, annot=True, fmt='d', cmap='PRGn')\n",
    "plt.ylabel('True Labels')\n",
    "plt.xlabel('Predicted Labels')\n",
    "plt.show()"
   ]
  },
  {
   "cell_type": "code",
   "execution_count": 25,
   "id": "d02843f5",
   "metadata": {},
   "outputs": [
    {
     "data": {
      "text/plain": [
       "dict_keys(['loss', 'accuracy', 'val_loss', 'val_accuracy'])"
      ]
     },
     "execution_count": 25,
     "metadata": {},
     "output_type": "execute_result"
    }
   ],
   "source": [
    "history.history.keys()\n"
   ]
  },
  {
   "cell_type": "code",
   "execution_count": 26,
   "id": "5d263238",
   "metadata": {},
   "outputs": [
    {
     "data": {
      "image/png": "[encoded data removed]",
      "text/plain": [
       "<Figure size 640x480 with 1 Axes>"
      ]
     },
     "metadata": {},
     "output_type": "display_data"
    }
   ],
   "source": [
    "plt.plot(history.history['accuracy'])\n",
    "plt.plot(history.history['val_accuracy'])\n",
    "plt.title('model accuracy')\n",
    "plt.ylabel('accuracy')\n",
    "plt.xlabel('epoch')\n",
    "plt.legend(['Train', 'Validation'], loc='upper left')\n",
    "plt.show()"
   ]
  },
  {
   "cell_type": "code",
   "execution_count": 27,
   "id": "536786ab",
   "metadata": {},
   "outputs": [
    {
     "name": "stdout",
     "output_type": "stream",
     "text": [
      "Best test accuracy was 0.903833 at epoch 9\n"
     ]
    }
   ],
   "source": [
    "best_score = max(history.history['val_accuracy'])\n",
    "best_epoch = np.array(history.history['val_accuracy']).argmax()+1\n",
    "print('Best test accuracy was %f at epoch %i' % (best_score, best_epoch))"
   ]
  },
  {
   "cell_type": "code",
   "execution_count": 28,
   "id": "614ff903",
   "metadata": {},
   "outputs": [
    {
     "name": "stdout",
     "output_type": "stream",
     "text": [
      "              precision    recall  f1-score   support\n",
      "\n",
      " T-shirt/top       0.85      0.87      0.86      1232\n",
      "     Trouser       0.99      0.98      0.98      1174\n",
      "    Pullover       0.86      0.87      0.86      1200\n",
      "       Dress       0.87      0.93      0.90      1242\n",
      "        Coat       0.76      0.89      0.82      1185\n",
      "      Sandal       0.98      0.98      0.98      1141\n",
      "       Shirt       0.79      0.61      0.69      1243\n",
      "     Sneaker       0.96      0.97      0.97      1224\n",
      "         Bag       0.99      0.98      0.98      1149\n",
      "  Ankle boot       0.98      0.97      0.98      1210\n",
      "\n",
      "    accuracy                           0.90     12000\n",
      "   macro avg       0.90      0.90      0.90     12000\n",
      "weighted avg       0.90      0.90      0.90     12000\n",
      "\n"
     ]
    }
   ],
   "source": [
    "from sklearn.metrics import classification_report, confusion_matrix\n",
    "target_names = [class_names[x] for x in range(0,10)]\n",
    "print(classification_report(y_test, Y_pred_labels, target_names=target_names))"
   ]
  },
  {
   "cell_type": "code",
   "execution_count": null,
   "id": "ae47a9ec",
   "metadata": {},
   "outputs": [],
   "source": []
  },
  {
   "cell_type": "code",
   "execution_count": null,
   "id": "23caa04c",
   "metadata": {},
   "outputs": [],
   "source": []
  }
 ],
 "metadata": {
  "kernelspec": {
   "display_name": "Python 3 (ipykernel)",
   "language": "python",
   "name": "python3"
  },
  "language_info": {
   "codemirror_mode": {
    "name": "ipython",
    "version": 3
   },
   "file_extension": ".py",
   "mimetype": "text/x-python",
   "name": "python",
   "nbconvert_exporter": "python",
   "pygments_lexer": "ipython3",
   "version": "3.9.13"
  }
 },
 "nbformat": 4,
 "nbformat_minor": 5
}
