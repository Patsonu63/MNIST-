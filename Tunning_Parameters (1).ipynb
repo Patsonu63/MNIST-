{
  "nbformat": 4,
  "nbformat_minor": 0,
  "metadata": {
    "colab": {
      "provenance": []
    },
    "kernelspec": {
      "name": "python3",
      "display_name": "Python 3"
    },
    "language_info": {
      "name": "python"
    }
  },
  "cells": [
    {
      "cell_type": "code",
      "execution_count": 1,
      "metadata": {
        "id": "cGmgKkyt88Jq"
      },
      "outputs": [],
      "source": [
        "import numpy as np\n",
        "import pandas as pd\n",
        "import random\n",
        "import tensorflow as tf\n",
        "import matplotlib.pyplot as plt\n",
        "\n",
        "from sklearn.metrics import accuracy_score\n",
        "\n",
        "from tensorflow.keras.models import Sequential\n",
        "from tensorflow.keras.layers import Flatten, Conv2D, Dense, MaxPooling2D,Dropout\n",
        "from tensorflow.keras.optimizers import SGD\n",
        "from tensorflow.keras.utils import to_categorical\n",
        "from tensorflow.keras.datasets import mnist"
      ]
    },
    {
      "cell_type": "code",
      "source": [
        "(X_train, y_train), (X_test, y_test) = mnist.load_data()#split dataset into train and test\n",
        "X_train.shape,X_test.shape,y_train.shape,y_test.shape"
      ],
      "metadata": {
        "colab": {
          "base_uri": "https://localhost:8080/"
        },
        "id": "2vckHUAO_kIR",
        "outputId": "98ddcd12-6692-4a08-b65a-ecc30ef48b83"
      },
      "execution_count": 2,
      "outputs": [
        {
          "output_type": "stream",
          "name": "stdout",
          "text": [
            "Downloading data from https://storage.googleapis.com/tensorflow/tf-keras-datasets/mnist.npz\n",
            "11490434/11490434 [==============================] - 0s 0us/step\n"
          ]
        },
        {
          "output_type": "execute_result",
          "data": {
            "text/plain": [
              "((60000, 28, 28), (10000, 28, 28), (60000,), (10000,))"
            ]
          },
          "metadata": {},
          "execution_count": 2
        }
      ]
    },
    {
      "cell_type": "code",
      "source": [
        "X_train[0].min(),X_train[0].max()\n"
      ],
      "metadata": {
        "colab": {
          "base_uri": "https://localhost:8080/"
        },
        "id": "N2JcbX2S_uVr",
        "outputId": "fb572070-27aa-4c10-91ec-9dbfaa3c9144"
      },
      "execution_count": 3,
      "outputs": [
        {
          "output_type": "execute_result",
          "data": {
            "text/plain": [
              "(0, 255)"
            ]
          },
          "metadata": {},
          "execution_count": 3
        }
      ]
    },
    {
      "cell_type": "code",
      "source": [
        "#scaled_value = (original_value – min) / (max – min)\n",
        "X_train = (X_train - 0) / (255 - 0)\n",
        "X_test = (X_test - 0) / (255 - 0)\n",
        "X_train[0].min(), X_train[0].max()"
      ],
      "metadata": {
        "colab": {
          "base_uri": "https://localhost:8080/"
        },
        "id": "tnmp_H5w_70W",
        "outputId": "4c8bffcb-5cd2-4936-9db8-092cd111b872"
      },
      "execution_count": 4,
      "outputs": [
        {
          "output_type": "execute_result",
          "data": {
            "text/plain": [
              "(0.0, 1.0)"
            ]
          },
          "metadata": {},
          "execution_count": 4
        }
      ]
    },
    {
      "cell_type": "code",
      "source": [
        "def plot_digit(image, digit, plt, i):\n",
        "    plt.subplot(4, 5, i + 1)\n",
        "    plt.imshow(image, cmap=plt.get_cmap('gray'))\n",
        "    plt.title(f\"Digit: {digit}\")\n",
        "    plt.xticks([])\n",
        "    plt.yticks([])\n",
        "\n",
        "\n",
        "plt.figure(figsize=(16, 10))\n",
        "for i in range(20):\n",
        "    plot_digit(X_train[i], y_train[i], plt, i)\n",
        "    \n",
        "plt.show()"
      ],
      "metadata": {
        "colab": {
          "base_uri": "https://localhost:8080/",
          "height": 594
        },
        "id": "EjIy8nCl__vn",
        "outputId": "2bd29aac-3b30-456e-9a42-6ea0415227b4"
      },
      "execution_count": 5,
      "outputs": [
        {
          "output_type": "display_data",
          "data": {
            "text/plain": [
              "<Figure size 1152x720 with 20 Axes>"
            ],
            "image/png": "[encoded data removed]"
          },
          "metadata": {}
        }
      ]
    },
    {
      "cell_type": "code",
      "source": [
        "X_train.shape\n"
      ],
      "metadata": {
        "colab": {
          "base_uri": "https://localhost:8080/"
        },
        "id": "snMlAEJFACKr",
        "outputId": "b044896e-c795-48c9-85b2-ea058c0c59b6"
      },
      "execution_count": 6,
      "outputs": [
        {
          "output_type": "execute_result",
          "data": {
            "text/plain": [
              "(60000, 28, 28)"
            ]
          },
          "metadata": {},
          "execution_count": 6
        }
      ]
    },
    {
      "cell_type": "code",
      "source": [
        "\n",
        "#reshape() function to reshape all of the data by adding that extra dimension.\n",
        "X_train = X_train.reshape((X_train.shape + (1,)))\n",
        "X_test = X_test.reshape((X_test.shape + (1,)))\n",
        "X_train.shape"
      ],
      "metadata": {
        "colab": {
          "base_uri": "https://localhost:8080/"
        },
        "id": "9EdblCuUAGOJ",
        "outputId": "fa426ccc-3d9e-466f-d4ee-dc072acbdadb"
      },
      "execution_count": 7,
      "outputs": [
        {
          "output_type": "execute_result",
          "data": {
            "text/plain": [
              "(60000, 28, 28, 1)"
            ]
          },
          "metadata": {},
          "execution_count": 7
        }
      ]
    },
    {
      "cell_type": "code",
      "source": [
        "#let's take a look at the format of our target values (y_train)\n",
        "y_train[0:20]"
      ],
      "metadata": {
        "colab": {
          "base_uri": "https://localhost:8080/"
        },
        "id": "6M2JSpUgAJTB",
        "outputId": "61922134-da99-47e8-b8db-ec0b13fb65ef"
      },
      "execution_count": 8,
      "outputs": [
        {
          "output_type": "execute_result",
          "data": {
            "text/plain": [
              "array([5, 0, 4, 1, 9, 2, 1, 3, 1, 4, 3, 5, 3, 6, 1, 7, 2, 8, 6, 9],\n",
              "      dtype=uint8)"
            ]
          },
          "metadata": {},
          "execution_count": 8
        }
      ]
    },
    {
      "cell_type": "code",
      "source": [
        "model = Sequential([\n",
        "    Conv2D(32, (3, 3), activation=\"relu\", input_shape=(28, 28, 1)),\n",
        "    MaxPooling2D((2, 2)),\n",
        "    Flatten(),\n",
        "    Dense(100, activation=\"relu\"),\n",
        "    Dense(10, activation=\"softmax\")\n",
        "])"
      ],
      "metadata": {
        "id": "2cWeyZqUALdF"
      },
      "execution_count": null,
      "outputs": []
    },
    {
      "cell_type": "code",
      "source": [
        "model.compile(\n",
        "    optimizer='sgd', \n",
        "    loss=\"sparse_categorical_crossentropy\", \n",
        "    metrics=[\"accuracy\"]\n",
        ")\n",
        "model.summary()"
      ],
      "metadata": {
        "colab": {
          "base_uri": "https://localhost:8080/"
        },
        "id": "65QSR63lARGt",
        "outputId": "702fb829-4dfa-4a3c-eca2-50817942ea3b"
      },
      "execution_count": null,
      "outputs": [
        {
          "output_type": "stream",
          "name": "stdout",
          "text": [
            "Model: \"sequential_4\"\n",
            "_________________________________________________________________\n",
            " Layer (type)                Output Shape              Param #   \n",
            "=================================================================\n",
            " conv2d_10 (Conv2D)          (None, 26, 26, 32)        320       \n",
            "                                                                 \n",
            " max_pooling2d_10 (MaxPoolin  (None, 13, 13, 32)       0         \n",
            " g2D)                                                            \n",
            "                                                                 \n",
            " flatten_3 (Flatten)         (None, 5408)              0         \n",
            "                                                                 \n",
            " dense_4 (Dense)             (None, 100)               540900    \n",
            "                                                                 \n",
            " dense_5 (Dense)             (None, 10)                1010      \n",
            "                                                                 \n",
            "=================================================================\n",
            "Total params: 542,230\n",
            "Trainable params: 542,230\n",
            "Non-trainable params: 0\n",
            "_________________________________________________________________\n"
          ]
        }
      ]
    },
    {
      "cell_type": "code",
      "source": [
        "from tensorflow.keras.callbacks import EarlyStopping\n",
        "callbacks=[EarlyStopping(monitor='val_accuracy',patience=3)]\n",
        "history=model.fit(X_train, y_train,epochs=5,batch_size=32,validation_split=0.2,callbacks=callbacks)"
      ],
      "metadata": {
        "colab": {
          "base_uri": "https://localhost:8080/"
        },
        "id": "7mzc2qtzAXRG",
        "outputId": "7e7ccb32-c3c1-47d4-8436-78b67099e07e"
      },
      "execution_count": null,
      "outputs": [
        {
          "output_type": "stream",
          "name": "stdout",
          "text": [
            "Epoch 1/5\n",
            "1500/1500 [==============================] - 29s 19ms/step - loss: 0.2169 - accuracy: 0.9351 - val_loss: 0.1771 - val_accuracy: 0.9513\n",
            "Epoch 2/5\n",
            "1500/1500 [==============================] - 29s 19ms/step - loss: 0.1718 - accuracy: 0.9499 - val_loss: 0.1584 - val_accuracy: 0.9546\n",
            "Epoch 3/5\n",
            "1500/1500 [==============================] - 29s 19ms/step - loss: 0.1435 - accuracy: 0.9574 - val_loss: 0.1331 - val_accuracy: 0.9619\n",
            "Epoch 4/5\n",
            "1500/1500 [==============================] - 29s 19ms/step - loss: 0.1226 - accuracy: 0.9635 - val_loss: 0.1360 - val_accuracy: 0.9596\n",
            "Epoch 5/5\n",
            "1500/1500 [==============================] - 30s 20ms/step - loss: 0.1066 - accuracy: 0.9689 - val_loss: 0.1143 - val_accuracy: 0.9667\n"
          ]
        }
      ]
    },
    {
      "cell_type": "code",
      "source": [
        "predictions = np.argmax(model.predict(X_test), axis=-1)\n",
        "accuracy_score(y_test, predictions)"
      ],
      "metadata": {
        "colab": {
          "base_uri": "https://localhost:8080/"
        },
        "id": "y02FCaqNAdIP",
        "outputId": "8a659b6c-1cf5-4433-d93c-48920c9d83ce"
      },
      "execution_count": null,
      "outputs": [
        {
          "output_type": "stream",
          "name": "stdout",
          "text": [
            "313/313 [==============================] - 2s 7ms/step\n"
          ]
        },
        {
          "output_type": "execute_result",
          "data": {
            "text/plain": [
              "0.9676"
            ]
          },
          "metadata": {},
          "execution_count": 31
        }
      ]
    },
    {
      "cell_type": "code",
      "source": [
        "def define_model():\n",
        " model = Sequential()\n",
        " model.add(Conv2D(32, (3, 3), activation='selu', kernel_initializer='he_uniform', input_shape=(28, 28, 1)))\n",
        " model.add(MaxPooling2D((2, 2)))\n",
        " model.add(Conv2D(64, (3, 3), activation='selu', kernel_initializer='he_uniform'))\n",
        " model.add(Conv2D(64, (3, 3), activation='selu', kernel_initializer='he_uniform'))\n",
        " model.add(MaxPooling2D((2, 2)))\n",
        " model.add(Flatten())\n",
        " model.add(Dense(100, activation='selu', kernel_initializer='he_uniform'))\n",
        " model.add(Dense(10, activation='softmax'))"
      ],
      "metadata": {
        "id": "bAifJx0WGl9a"
      },
      "execution_count": null,
      "outputs": []
    },
    {
      "cell_type": "code",
      "source": [
        "model.compile(\n",
        "    optimizer='adam', \n",
        "    loss=\"sparse_categorical_crossentropy\", \n",
        "    metrics=[\"accuracy\"])\n"
      ],
      "metadata": {
        "id": "UfRNFrm1Zi9G"
      },
      "execution_count": null,
      "outputs": []
    },
    {
      "cell_type": "code",
      "source": [
        "from tensorflow.keras.callbacks import EarlyStopping\n",
        "callbacks=[EarlyStopping(monitor='val_accuracy',patience=3)]\n",
        "history=model.fit(X_train, y_train,epochs=10,batch_size=20,validation_split=0.2,callbacks=callbacks)"
      ],
      "metadata": {
        "colab": {
          "base_uri": "https://localhost:8080/"
        },
        "id": "2CJ_Y7KWazc_",
        "outputId": "c6549c87-a198-40a9-9c82-83313732c4a2"
      },
      "execution_count": null,
      "outputs": [
        {
          "output_type": "stream",
          "name": "stdout",
          "text": [
            "Epoch 1/10\n",
            "2400/2400 [==============================] - 38s 16ms/step - loss: 0.1216 - accuracy: 0.9634 - val_loss: 0.0697 - val_accuracy: 0.9785\n",
            "Epoch 2/10\n",
            "2400/2400 [==============================] - 38s 16ms/step - loss: 0.0499 - accuracy: 0.9849 - val_loss: 0.0507 - val_accuracy: 0.9831\n",
            "Epoch 3/10\n",
            "2400/2400 [==============================] - 38s 16ms/step - loss: 0.0298 - accuracy: 0.9908 - val_loss: 0.0515 - val_accuracy: 0.9841\n",
            "Epoch 4/10\n",
            "2400/2400 [==============================] - 39s 16ms/step - loss: 0.0177 - accuracy: 0.9940 - val_loss: 0.0504 - val_accuracy: 0.9868\n",
            "Epoch 5/10\n",
            "2400/2400 [==============================] - 37s 16ms/step - loss: 0.0123 - accuracy: 0.9962 - val_loss: 0.0563 - val_accuracy: 0.9846\n",
            "Epoch 6/10\n",
            "2400/2400 [==============================] - 37s 16ms/step - loss: 0.0094 - accuracy: 0.9969 - val_loss: 0.0652 - val_accuracy: 0.9830\n",
            "Epoch 7/10\n",
            "2400/2400 [==============================] - 38s 16ms/step - loss: 0.0075 - accuracy: 0.9977 - val_loss: 0.0764 - val_accuracy: 0.9834\n"
          ]
        }
      ]
    },
    {
      "cell_type": "code",
      "source": [
        "predictions = np.argmax(model.predict(X_test), axis=-1)\n",
        "accuracy_score(y_test, predictions)"
      ],
      "metadata": {
        "colab": {
          "base_uri": "https://localhost:8080/"
        },
        "id": "ujHTZiBqbR1O",
        "outputId": "3a9bb404-f9cc-412a-e46a-8d5464ce91d9"
      },
      "execution_count": null,
      "outputs": [
        {
          "output_type": "stream",
          "name": "stdout",
          "text": [
            "313/313 [==============================] - 2s 7ms/step\n"
          ]
        },
        {
          "output_type": "execute_result",
          "data": {
            "text/plain": [
              "0.9847"
            ]
          },
          "metadata": {},
          "execution_count": 55
        }
      ]
    },
    {
      "cell_type": "code",
      "source": [
        "\n",
        "#####Traditional cnn\n",
        "model= Sequential([\n",
        "    Conv2D (32, (5, 5), activation = \"relu\", input_shape=(28,28,1)),\n",
        "    MaxPooling2D((2, 2)),\n",
        "    Flatten(),\n",
        "    Dense(100, activation=\"relu\"),\n",
        "    Dense(10, activation=\"softmax\"),\n",
        "])"
      ],
      "metadata": {
        "id": "HbLX7Q_kOh2V"
      },
      "execution_count": 10,
      "outputs": []
    },
    {
      "cell_type": "code",
      "source": [
        "model.compile(\n",
        "    optimizer=\"sgd\",\n",
        "    loss=\"sparse_categorical_crossentropy\",\n",
        "    metrics=[\"accuracy\"])"
      ],
      "metadata": {
        "id": "OlTW_uicOpvN"
      },
      "execution_count": 11,
      "outputs": []
    },
    {
      "cell_type": "code",
      "source": [
        "history = model.fit(X_train, y_train, epochs=5, batch_size=32, validation_split=0.2)"
      ],
      "metadata": {
        "colab": {
          "base_uri": "https://localhost:8080/"
        },
        "id": "XJKMFfqXO1s0",
        "outputId": "0d5f66df-44fb-47b5-fc44-6274452448e9"
      },
      "execution_count": 13,
      "outputs": [
        {
          "output_type": "stream",
          "name": "stdout",
          "text": [
            "Epoch 1/5\n",
            "1500/1500 [==============================] - 34s 22ms/step - loss: 0.3469 - accuracy: 0.8987 - val_loss: 0.2350 - val_accuracy: 0.9334\n",
            "Epoch 2/5\n",
            "1500/1500 [==============================] - 32s 21ms/step - loss: 0.2219 - accuracy: 0.9344 - val_loss: 0.1766 - val_accuracy: 0.9500\n",
            "Epoch 3/5\n",
            "1500/1500 [==============================] - 33s 22ms/step - loss: 0.1619 - accuracy: 0.9513 - val_loss: 0.1571 - val_accuracy: 0.9538\n",
            "Epoch 4/5\n",
            "1500/1500 [==============================] - 36s 24ms/step - loss: 0.1267 - accuracy: 0.9618 - val_loss: 0.1118 - val_accuracy: 0.9682\n",
            "Epoch 5/5\n",
            "1500/1500 [==============================] - 34s 23ms/step - loss: 0.1032 - accuracy: 0.9695 - val_loss: 0.0942 - val_accuracy: 0.9734\n"
          ]
        }
      ]
    },
    {
      "cell_type": "code",
      "source": [
        "predictions = np.argmax(model.predict(X_test), axis=-1)\n",
        "accuracy_score(y_test, predictions)"
      ],
      "metadata": {
        "colab": {
          "base_uri": "https://localhost:8080/"
        },
        "id": "zP-KVBrtO32s",
        "outputId": "4c005c38-52da-4ac6-f199-4885a49394bc"
      },
      "execution_count": 14,
      "outputs": [
        {
          "output_type": "stream",
          "name": "stdout",
          "text": [
            "313/313 [==============================] - 2s 7ms/step\n"
          ]
        },
        {
          "output_type": "execute_result",
          "data": {
            "text/plain": [
              "0.9729"
            ]
          },
          "metadata": {},
          "execution_count": 14
        }
      ]
    },
    {
      "cell_type": "code",
      "source": [
        "model= Sequential([\n",
        "    Conv2D (64, (5, 5), activation = \"selu\", input_shape=(28,28,1)),\n",
        "    MaxPooling2D((2, 2)),\n",
        "    Flatten(),\n",
        "    Dense(100, activation=\"selu\"),\n",
        "    Dense(10, activation=\"softmax\"),\n",
        "])"
      ],
      "metadata": {
        "id": "kgua0jNsQcv1"
      },
      "execution_count": 15,
      "outputs": []
    },
    {
      "cell_type": "code",
      "source": [
        "model.compile(\n",
        "    optimizer=\"adam\",\n",
        "    loss=\"sparse_categorical_crossentropy\",\n",
        "    metrics=[\"accuracy\"])"
      ],
      "metadata": {
        "id": "jwQVZpkwQyT4"
      },
      "execution_count": 16,
      "outputs": []
    },
    {
      "cell_type": "code",
      "source": [
        "history = model.fit(X_train, y_train, epochs=10, batch_size=20, validation_split=0.2)"
      ],
      "metadata": {
        "colab": {
          "base_uri": "https://localhost:8080/"
        },
        "id": "iHs-dH9UQ3dP",
        "outputId": "96fa1001-e1ee-4839-f8c2-b34ec122088d"
      },
      "execution_count": 17,
      "outputs": [
        {
          "output_type": "stream",
          "name": "stdout",
          "text": [
            "Epoch 1/10\n",
            "2400/2400 [==============================] - 71s 29ms/step - loss: 0.2010 - accuracy: 0.9401 - val_loss: 0.0905 - val_accuracy: 0.9732\n",
            "Epoch 2/10\n",
            "2400/2400 [==============================] - 71s 30ms/step - loss: 0.0760 - accuracy: 0.9768 - val_loss: 0.0876 - val_accuracy: 0.9747\n",
            "Epoch 3/10\n",
            "2400/2400 [==============================] - 70s 29ms/step - loss: 0.0486 - accuracy: 0.9843 - val_loss: 0.1036 - val_accuracy: 0.9726\n",
            "Epoch 4/10\n",
            "2400/2400 [==============================] - 70s 29ms/step - loss: 0.0361 - accuracy: 0.9885 - val_loss: 0.0861 - val_accuracy: 0.9794\n",
            "Epoch 5/10\n",
            "2400/2400 [==============================] - 69s 29ms/step - loss: 0.0293 - accuracy: 0.9905 - val_loss: 0.0948 - val_accuracy: 0.9800\n",
            "Epoch 6/10\n",
            "2400/2400 [==============================] - 72s 30ms/step - loss: 0.0280 - accuracy: 0.9916 - val_loss: 0.1119 - val_accuracy: 0.9774\n",
            "Epoch 7/10\n",
            "2400/2400 [==============================] - 73s 30ms/step - loss: 0.0209 - accuracy: 0.9935 - val_loss: 0.1136 - val_accuracy: 0.9792\n",
            "Epoch 8/10\n",
            "2400/2400 [==============================] - 69s 29ms/step - loss: 0.0240 - accuracy: 0.9931 - val_loss: 0.1156 - val_accuracy: 0.9812\n",
            "Epoch 9/10\n",
            "2400/2400 [==============================] - 68s 28ms/step - loss: 0.0190 - accuracy: 0.9949 - val_loss: 0.1117 - val_accuracy: 0.9827\n",
            "Epoch 10/10\n",
            "2400/2400 [==============================] - 72s 30ms/step - loss: 0.0178 - accuracy: 0.9951 - val_loss: 0.1424 - val_accuracy: 0.9798\n"
          ]
        }
      ]
    },
    {
      "cell_type": "code",
      "source": [
        "predictions = np.argmax(model.predict(X_test), axis=-1)\n",
        "accuracy_score(y_test, predictions)"
      ],
      "metadata": {
        "colab": {
          "base_uri": "https://localhost:8080/"
        },
        "id": "8Irj2I3JQ_iF",
        "outputId": "4f4e1d97-be33-4fd6-c7a6-578dabbb10a8"
      },
      "execution_count": 18,
      "outputs": [
        {
          "output_type": "stream",
          "name": "stdout",
          "text": [
            "313/313 [==============================] - 4s 13ms/step\n"
          ]
        },
        {
          "output_type": "execute_result",
          "data": {
            "text/plain": [
              "0.9772"
            ]
          },
          "metadata": {},
          "execution_count": 18
        }
      ]
    },
    {
      "cell_type": "code",
      "source": [],
      "metadata": {
        "id": "1jswZb9VTtQs"
      },
      "execution_count": null,
      "outputs": []
    }
  ]
}